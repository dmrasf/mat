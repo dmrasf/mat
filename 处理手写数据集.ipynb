{
 "cells": [
  {
   "cell_type": "code",
   "execution_count": 1,
   "metadata": {},
   "outputs": [],
   "source": [
    "import tensorflow as tf\n",
    "from tensorflow import keras\n",
    "import numpy as np\n",
    "import pandas as pd\n",
    "import matplotlib.pyplot as plt"
   ]
  },
  {
   "cell_type": "code",
   "execution_count": 2,
   "metadata": {},
   "outputs": [],
   "source": [
    "(train_image, train_label), (test_image, test_label) = keras.datasets.mnist.load_data()"
   ]
  },
  {
   "cell_type": "code",
   "execution_count": 3,
   "metadata": {},
   "outputs": [
    {
     "data": {
      "text/plain": [
       "array([7, 2, 1, ..., 4, 5, 6], dtype=uint8)"
      ]
     },
     "execution_count": 3,
     "metadata": {},
     "output_type": "execute_result"
    }
   ],
   "source": [
    "test_label"
   ]
  },
  {
   "cell_type": "code",
   "execution_count": 4,
   "metadata": {},
   "outputs": [],
   "source": [
    "# train_image = train_image/255\n",
    "# train_image[0]"
   ]
  },
  {
   "cell_type": "code",
   "execution_count": 7,
   "metadata": {
    "scrolled": true
   },
   "outputs": [],
   "source": [
    "fw = open(\"test_x.csv\", \"a\")\n",
    "for i in test_image:\n",
    "    ls = [];\n",
    "    for j in range(i.shape[0]):\n",
    "        temp = list(i[j,:])\n",
    "        temp = list(map(str,temp))\n",
    "        ls += temp\n",
    "    fw.write(\",\".join(ls) + \"\\n\")\n",
    "fw.close()\n",
    "fw = open(\"train_x.csv\", \"a\")\n",
    "for i in train_image:\n",
    "    ls = [];\n",
    "    for j in range(i.shape[0]):\n",
    "        temp = list(i[j,:])\n",
    "        temp = list(map(str,temp))\n",
    "        ls += temp\n",
    "    fw.write(\",\".join(ls) + \"\\n\")\n",
    "fw.close()"
   ]
  },
  {
   "cell_type": "code",
   "execution_count": 8,
   "metadata": {},
   "outputs": [],
   "source": [
    "fw = open(\"train_y.csv\", \"a\")\n",
    "ls = list(train_label)\n",
    "ls = list(map(str, ls))\n",
    "fw.write(\",\".join(ls) + \"\\n\")\n",
    "fw.close()\n",
    "fw = open(\"test_y.csv\", \"a\")\n",
    "ls = list(test_label)\n",
    "ls = list(map(str, ls))\n",
    "fw.write(\",\".join(ls) + \"\\n\")\n",
    "fw.close()"
   ]
  },
  {
   "cell_type": "code",
   "execution_count": null,
   "metadata": {},
   "outputs": [],
   "source": []
  }
 ],
 "metadata": {
  "kernelspec": {
   "display_name": "Python 3",
   "language": "python",
   "name": "python3"
  },
  "language_info": {
   "codemirror_mode": {
    "name": "ipython",
    "version": 3
   },
   "file_extension": ".py",
   "mimetype": "text/x-python",
   "name": "python",
   "nbconvert_exporter": "python",
   "pygments_lexer": "ipython3",
   "version": "3.7.3"
  }
 },
 "nbformat": 4,
 "nbformat_minor": 2
}
